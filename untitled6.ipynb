{
  "nbformat": 4,
  "nbformat_minor": 0,
  "metadata": {
    "colab": {
      "provenance": [],
      "authorship_tag": "ABX9TyMMe723epzto5KsC7ZHutbD",
      "include_colab_link": true
    },
    "kernelspec": {
      "name": "python3",
      "display_name": "Python 3"
    },
    "language_info": {
      "name": "python"
    }
  },
  "cells": [
    {
      "cell_type": "markdown",
      "metadata": {
        "id": "view-in-github",
        "colab_type": "text"
      },
      "source": [
        "<a href=\"https://colab.research.google.com/github/Dynmaxx/Tugas-Komputasi-Numerik/blob/main/untitled6.ipynb\" target=\"_parent\"><img src=\"https://colab.research.google.com/assets/colab-badge.svg\" alt=\"Open In Colab\"/></a>"
      ]
    },
    {
      "cell_type": "code",
      "execution_count": 1,
      "metadata": {
        "id": "5iU5pOKj573b"
      },
      "outputs": [],
      "source": [
        "from itertools import permutations\n",
        "\n",
        "def d_permutations(elements):\n",
        "    all_perm = list(permutations(elements))\n",
        "    return all_perm"
      ]
    },
    {
      "cell_type": "markdown",
      "source": [
        "from itertools import permutations\n",
        "Mengimpor fungsi permutations() dari modul itertools.\n",
        "Fungsi ini digunakan untuk menghasilkan semua urutan (permutasi) yang mungkin dari elemen dalam sebuah list atau iterable.\n",
        "def d_permutations(elements):\n",
        "Membuat fungsi bernama d_permutations yang menerima satu parameter elements (list dari elemen).\n",
        "all_perm = list(permutations(elements))\n",
        "permutations(elements) mengembalikan iterator dari semua urutan berbeda dari elemen-elemen dalam elements.\n",
        "\n",
        "list(...) mengubah hasil iterator menjadi list Python biasa.\n",
        "return all_perm\n",
        "Mengembalikan list permutasi ke pemanggil fungsi."
      ],
      "metadata": {
        "id": "DLqmC1z__NTM"
      }
    },
    {
      "cell_type": "code",
      "source": [
        "data = [1, 2, 3]\n",
        "result = d_permutations(data)\n",
        "\n",
        "print(f\"Permutasi dari {data}:\")\n",
        "for perm in result:\n",
        "    print(perm)"
      ],
      "metadata": {
        "colab": {
          "base_uri": "https://localhost:8080/"
        },
        "id": "AHbTXd3O9m8r",
        "outputId": "8fc64d4a-05f4-4047-b403-5a93c77fd7f1"
      },
      "execution_count": 2,
      "outputs": [
        {
          "output_type": "stream",
          "name": "stdout",
          "text": [
            "Permutasi dari [1, 2, 3]:\n",
            "(1, 2, 3)\n",
            "(1, 3, 2)\n",
            "(2, 1, 3)\n",
            "(2, 3, 1)\n",
            "(3, 1, 2)\n",
            "(3, 2, 1)\n"
          ]
        }
      ]
    },
    {
      "cell_type": "markdown",
      "source": [
        "data = [1, 2, 3]\n",
        "Membuat list berisi tiga angka yang ingin dicari semua permutasinya.\n",
        "result = d_permutations(data)\n",
        "Memanggil fungsi d_permutations dan menyimpan hasil permutasi ke variabel result.\n",
        "print(f\"Permutasi dari {data}:\")\n",
        "Mencetak judul atau pengantar sebelum daftar permutasi ditampilkan.\n",
        "for perm in result: print(perm)\n",
        "Melakukan iterasi pada setiap elemen di result, lalu mencetak permutasi tersebut (dalam bentuk tuple)."
      ],
      "metadata": {
        "id": "99QyHT1s_zgO"
      }
    }
  ]
}