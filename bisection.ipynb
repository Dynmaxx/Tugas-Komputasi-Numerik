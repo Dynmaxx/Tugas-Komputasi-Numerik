{
  "nbformat": 4,
  "nbformat_minor": 0,
  "metadata": {
    "colab": {
      "provenance": [],
      "include_colab_link": true
    },
    "kernelspec": {
      "name": "python3",
      "display_name": "Python 3"
    },
    "language_info": {
      "name": "python"
    }
  },
  "cells": [
    {
      "cell_type": "markdown",
      "metadata": {
        "id": "view-in-github",
        "colab_type": "text"
      },
      "source": [
        "<a href=\"https://colab.research.google.com/github/Dynmaxx/Tugas-Komputasi-Numerik/blob/main/bisection.ipynb\" target=\"_parent\"><img src=\"https://colab.research.google.com/assets/colab-badge.svg\" alt=\"Open In Colab\"/></a>"
      ]
    },
    {
      "cell_type": "code",
      "execution_count": 1,
      "metadata": {
        "id": "2JHVHadOtZcL"
      },
      "outputs": [],
      "source": [
        "import numpy as np\n",
        "import sys"
      ]
    },
    {
      "cell_type": "markdown",
      "source": [
        "Import Numpy as np digunakan untuk mengimpor pustaka pada Numps as np dikarenakan agar mempermudah dalam mengakses array, aljabar dan operasi matematika Import sys digunakan untuk mengakses ke beberapa variabel dan biasanya digunakan untuk menangani argumen command line"
      ],
      "metadata": {
        "id": "GiQek5xSJ9ys"
      }
    },
    {
      "cell_type": "code",
      "source": [
        "def f(x) :\n",
        "    return x**2 - 2"
      ],
      "metadata": {
        "id": "5_LhaSoZurtu"
      },
      "execution_count": 2,
      "outputs": []
    },
    {
      "cell_type": "markdown",
      "source": [
        "def digunakan untuk mendefinisikan suatu fungsi dalam python dalam kode diatas fungsi def diberi nama f dan x adalah paramater yang diterima oleh fungsi, x bisa dianggap sebagai input yang akan diproses oleh fungsi ketika dipanggil.\n",
        "\n",
        "return x**2 - 2 digunakan untuk mengembalikan suatu nilai varibel"
      ],
      "metadata": {
        "id": "GH2gimUdKDQ_"
      }
    },
    {
      "cell_type": "code",
      "source": [
        "def bisection(a,b) :\n",
        "  eps = 0.1\n",
        "\n",
        "  while (eps > 0.0001) :\n",
        "    c = (a+b) / 2\n",
        "\n",
        "    if (f(a)*f(c) < 0) :\n",
        "      b = c\n",
        "    else :\n",
        "      a = c\n",
        "\n",
        "    eps = abs(a-b)\n",
        "\n",
        "  return c"
      ],
      "metadata": {
        "id": "ncQT2IKYvNBk"
      },
      "execution_count": 3,
      "outputs": []
    },
    {
      "cell_type": "markdown",
      "source": [
        "def digunakan untuk mendefinisikan fungsi dalam python dalam kode diatas def diberi nama bisection, dan (a,b) adalah paramater yang diterima oleh fungsi yang digunakan untuk mempresentasikan batas atas dan batas bawah dari interval dimana akar dari fungsi f(x) dicari.\n",
        "\n",
        "variabel eps dinisialiasi dengan nilai 0,1. eps biasanya digunakan untuk menentukan seberapa kecil jarak antara dua batas a dan b.\n",
        "\n",
        "while (eps > 0,0001) digunakan untuk melooping.\n",
        "\n",
        "c= (a+b)/2 digunakan untuk mencari nilai tengah.\n",
        "\n",
        "elif (f(a)f(c) < 0): b = c else: a = c digunakan untuk mengecek tanda untuk memperbarui batas jika f(a)f(c) < 0 maka batas b diubah menjadi c sebaliknya jika f(a)*f(c) lebih besar dari 0 maka batas a diubah menjadi c\n",
        "\n",
        "eps = abs(a-b) digunakan untuk memperbarui looping\n",
        "\n",
        "return c digunakan untuk mengembalikan nilai c"
      ],
      "metadata": {
        "id": "7vovurmGKYrJ"
      }
    },
    {
      "cell_type": "code",
      "source": [
        "a = 1\n",
        "b = 2\n",
        "\n",
        "akar = bisection(a,b)\n",
        "print (\"Akar dari persamaan tersebut adalah : \", akar)"
      ],
      "metadata": {
        "id": "bG2u0Vq3Ca8o",
        "outputId": "469786cc-dfcc-4e03-bfd1-8bfc6de8135a",
        "colab": {
          "base_uri": "https://localhost:8080/"
        }
      },
      "execution_count": 4,
      "outputs": [
        {
          "output_type": "stream",
          "name": "stdout",
          "text": [
            "Akar dari persamaan tersebut adalah :  1.41424560546875\n"
          ]
        }
      ]
    },
    {
      "cell_type": "markdown",
      "source": [
        "a = 1 digunakan untuk mengisi nilai variabel a.\n",
        " b = 2 digunakan untuk mengisi nilai variabel b\n",
        " . akar = bisection(a,b) digunakan untuk mengisi nilai paramater a dan b ke bisection print digunakan untuk menampilkan output"
      ],
      "metadata": {
        "id": "15wMWwWbKf3-"
      }
    }
  ]
}