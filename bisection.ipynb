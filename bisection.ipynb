{
  "nbformat": 4,
  "nbformat_minor": 0,
  "metadata": {
    "colab": {
      "provenance": []
    },
    "kernelspec": {
      "name": "python3",
      "display_name": "Python 3"
    },
    "language_info": {
      "name": "python"
    }
  },
  "cells": [
    {
      "cell_type": "code",
      "execution_count": 4,
      "metadata": {
        "id": "2JHVHadOtZcL"
      },
      "outputs": [],
      "source": [
        "import numpy as np"
      ]
    },
    {
      "cell_type": "code",
      "source": [
        "def f(x) :\n",
        "    return x**2 - 2"
      ],
      "metadata": {
        "id": "5_LhaSoZurtu"
      },
      "execution_count": 7,
      "outputs": []
    },
    {
      "cell_type": "markdown",
      "source": [],
      "metadata": {
        "id": "KVAJ7VKyAx0L"
      }
    },
    {
      "cell_type": "code",
      "source": [
        "def bisection(a,b) :\n",
        "  eps = 0.1\n",
        "\n",
        "  while (eps > 0.0001) :\n",
        "    c = (a+b) / 2\n",
        "\n",
        "    if (f(a)*f(c) < 0) :\n",
        "      b = c\n",
        "    else :\n",
        "      a = c\n",
        "\n",
        "    eps = abs(a-b)\n",
        "\n",
        "  return c"
      ],
      "metadata": {
        "id": "ncQT2IKYvNBk"
      },
      "execution_count": 12,
      "outputs": []
    },
    {
      "cell_type": "code",
      "source": [
        "a = 1\n",
        "b = 2\n",
        "\n",
        "akar = bisection(a,b)\n",
        "print (\"Akar dari persamaan tersebut adalah : \", akar)"
      ],
      "metadata": {
        "id": "bG2u0Vq3Ca8o",
        "outputId": "ddece66f-3f39-434c-e916-d19a777df8eb",
        "colab": {
          "base_uri": "https://localhost:8080/"
        }
      },
      "execution_count": 13,
      "outputs": [
        {
          "output_type": "stream",
          "name": "stdout",
          "text": [
            "Akar dari persamaan tersebut adalah :  1.41424560546875\n"
          ]
        }
      ]
    }
  ]
}