{
  "nbformat": 4,
  "nbformat_minor": 0,
  "metadata": {
    "colab": {
      "provenance": [],
      "include_colab_link": true
    },
    "kernelspec": {
      "name": "python3",
      "display_name": "Python 3"
    },
    "language_info": {
      "name": "python"
    }
  },
  "cells": [
    {
      "cell_type": "markdown",
      "metadata": {
        "id": "view-in-github",
        "colab_type": "text"
      },
      "source": [
        "<a href=\"https://colab.research.google.com/github/Dynmaxx/Tugas-Komputasi-Numerik/blob/main/eliminasi_gauss.ipynb\" target=\"_parent\"><img src=\"https://colab.research.google.com/assets/colab-badge.svg\" alt=\"Open In Colab\"/></a>"
      ]
    },
    {
      "cell_type": "code",
      "execution_count": 6,
      "metadata": {
        "id": "C3aJpOzwRswY"
      },
      "outputs": [],
      "source": [
        "import numpy as np\n",
        "import sys"
      ]
    },
    {
      "cell_type": "markdown",
      "source": [
        "Import Numpy as np digunakan untuk mengimpor pustaka pada Numps as np dikarenakan agar mempermudah dalam mengakses array, aljabar dan operasi matematika\n",
        "Import sys digunakan untuk mengakses ke beberapa variabel dan biasanya digunakan untuk menangani argumen command line"
      ],
      "metadata": {
        "id": "8VdtgfFm0fvp"
      }
    },
    {
      "cell_type": "code",
      "source": [
        "SPL = ([[2,3,-1,5],[4,4,-3,3],[-2,3,-1,1]])\n",
        "print(\"Sistem Persamaan Linear matriks adalah \",SPL)\n",
        "\n",
        "for i in range(3):\n",
        "    SPL[1][i] = SPL[1][i] - (2*SPL[0][i])\n",
        "\n",
        "print(SPL[1][0])\n",
        "print(SPL[1][1])\n",
        "print(SPL[1][2])\n",
        "print(SPL[1][3])"
      ],
      "metadata": {
        "colab": {
          "base_uri": "https://localhost:8080/"
        },
        "id": "O0SfDC13tgZr",
        "outputId": "957e9ce0-177d-4c5d-9390-370df78aa078"
      },
      "execution_count": 7,
      "outputs": [
        {
          "output_type": "stream",
          "name": "stdout",
          "text": [
            "Sistem Persamaan Linear matriks adalah  [[2, 3, -1, 5], [4, 4, -3, 3], [-2, 3, -1, 1]]\n",
            "0\n",
            "-2\n",
            "-1\n",
            "3\n"
          ]
        }
      ]
    },
    {
      "cell_type": "markdown",
      "source": [
        "digunakan untuk melooping sebanyak 3 kali dan SPL[1][i] = SPL[1][i] - (2*SPL[0][i]) digunakan untuk mengurangi baris kedua pada kolom, i digunakan untuk melooping kolom pada baris kedua"
      ],
      "metadata": {
        "id": "An6B1k1J15Hu"
      }
    },
    {
      "cell_type": "code",
      "source": [
        "SPL = ([[2,3,-1,5],[4,4,-3,3],[-2,3,-1,1]])\n",
        "print(\"Sistem Persamaan Linear matriks adalah \",SPL)\n",
        "\n",
        "for i in range(4):\n",
        "    SPL[1][i] = SPL[1][i] - (2*SPL[0][i])\n",
        "\n",
        "for i in range(4):\n",
        "    SPL[2][i] = SPL[2][i] - (-1*SPL[0][i])\n",
        "\n",
        "for i in range(3):\n",
        "    SPL[2][i+1] = SPL[2][i+1] - (-3*SPL[1][i+1])\n",
        "\n",
        "SPL"
      ],
      "metadata": {
        "colab": {
          "base_uri": "https://localhost:8080/"
        },
        "id": "js9lGSow2LIs",
        "outputId": "151afa4e-873f-4726-822d-d3902af83120"
      },
      "execution_count": 8,
      "outputs": [
        {
          "output_type": "stream",
          "name": "stdout",
          "text": [
            "Sistem Persamaan Linear matriks adalah  [[2, 3, -1, 5], [4, 4, -3, 3], [-2, 3, -1, 1]]\n"
          ]
        },
        {
          "output_type": "execute_result",
          "data": {
            "text/plain": [
              "[[2, 3, -1, 5], [0, -2, -1, -7], [0, 0, -5, -15]]"
            ]
          },
          "metadata": {},
          "execution_count": 8
        }
      ]
    },
    {
      "cell_type": "markdown",
      "source": [
        "Pada For pertama digunakan untuk melooping kolom baris kedua dan dikurangi 2* baris pertama yang kolomnya dilooping\n",
        "Pada for kedua digunakan untuk meoloping baris ketiga dan baris ketiga yang dilooping akan dikurangi dengan -1*baris pertama yang kolomnya dilooping\n",
        "Pada for ketiga digunakan untuk melooping baris ketiga yang mana loopingnya i nya ditambah dengan +1 dan baris ketiga yang dilooping akan dikurangi dengan -3*baris kedua yang dilooping dengan i ditambah +1"
      ],
      "metadata": {
        "id": "AjzCmxFv3CEJ"
      }
    },
    {
      "cell_type": "code",
      "source": [
        "SPL = ([[2,3,-1,5],[4,4,-3,3],[-2,3,-1,1]])\n",
        "print(\"Sistem Persamaan Linear matriks adalah \",SPL)\n",
        "\n",
        "for i in range(4):\n",
        "    SPL[1][i] = SPL[1][i] - (2*SPL[0][i])\n",
        "\n",
        "for i in range(4):\n",
        "    SPL[2][i] = SPL[2][i] - (-1*SPL[0][i])\n",
        "\n",
        "for i in range(3):\n",
        "    SPL[2][i + 1] = SPL[2][i + 1] - (-3 * SPL[1][i + 1])\n",
        "\n",
        "\n",
        "#Subtition Back\n",
        "    x = 0\n",
        "    y = 0\n",
        "    z = 0\n",
        "\n",
        "z = SPL[2][3] / SPL[2][2]\n",
        "\n",
        "y = SPL[1][3] - SPL[1][2] *z / SPL[1][1]\n",
        "\n",
        "x = SPL[0][3] - SPL[0][2]*z - SPL[0][1]*y / SPL[0][0]\n",
        "\n",
        "print(\"Nilai X adalah \",x)\n",
        "print(\"Nilai Y adalah \",y)\n",
        "print(\"Nilai Z adalah \",z)\n",
        "\n",
        "print(\"Sistem Persamaan Linear matriks Setelah di eleminasi Gauss \",SPL)"
      ],
      "metadata": {
        "colab": {
          "base_uri": "https://localhost:8080/"
        },
        "id": "ciwrHKDW745H",
        "outputId": "c1fc60d1-2630-44fe-ee0f-2def5913395b"
      },
      "execution_count": null,
      "outputs": [
        {
          "output_type": "stream",
          "name": "stdout",
          "text": [
            "Sistem Persamaan Linear matriks adalah  [[2, 3, -1, 5], [4, 4, -3, 3], [-2, 3, -1, 1]]\n",
            "Nilai X adalah  20.75\n",
            "Nilai Y adalah  -8.5\n",
            "Nilai Z adalah  3.0\n",
            "Sistem Persamaan Linear matriks Setelah di eleminasi Gauss  [[2, 3, -1, 5], [0, -2, -1, -7], [0, 0, -5, -15]]\n"
          ]
        }
      ]
    },
    {
      "cell_type": "markdown",
      "source": [
        "1. Inisialisasi Matriks\n",
        "Matriks SPL merepresentasikan sistem persamaan linear:\n",
        "(2x + 3y - z = 5)\n",
        "(4x + 4y - 3z = 3)\n",
        "(-2x + 3y - z = 1)\n",
        "2. Eliminasi Gauss\n",
        "Tujuan dari eliminasi Gauss adalah mengubah matriks menjadi bentuk segitiga atas untuk memudahkan penyelesaian.\n",
        "Langkah 1: Eliminasi (x)\n",
        "Baris Kedua: Mengurangi dua kali baris pertama dari baris kedua.\n",
        "Baris Ketiga: Menambahkan baris pertama ke baris ketiga.\n",
        "Langkah 2: Eliminasi (y)\n",
        "Baris Ketiga: Mengurangi tiga kali baris kedua dari baris ketiga untuk menghilangkan (y).\n",
        "3. Substitusi Balik\n",
        "Setelah matriks dalam bentuk segitiga atas, kita dapat menghitung nilai variabel (z), (y), dan (x) secara berurutan.\n",
        "4. Output\n",
        "Mencetak nilai dari (x), (y), dan (z) serta matriks setelah eliminasi."
      ],
      "metadata": {
        "id": "3iQLzuLN6l_j"
      }
    }
  ]
}