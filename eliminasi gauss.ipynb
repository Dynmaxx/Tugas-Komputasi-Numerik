{
  "nbformat": 4,
  "nbformat_minor": 0,
  "metadata": {
    "colab": {
      "provenance": []
    },
    "kernelspec": {
      "name": "python3",
      "display_name": "Python 3"
    },
    "language_info": {
      "name": "python"
    }
  },
  "cells": [
    {
      "cell_type": "code",
      "execution_count": 15,
      "metadata": {
        "id": "C3aJpOzwRswY"
      },
      "outputs": [],
      "source": [
        "import numpy as np\n",
        "import sys"
      ]
    },
    {
      "cell_type": "markdown",
      "source": [
        "Import Numpy as np digunakan untuk mengimpor pustaka pada Numps as np dikarenakan agar mempermudah dalam mengakses array, aljabar dan operasi matematika\n",
        "Import sys digunakan untuk mengakses ke beberapa variabel dan biasanya digunakan untuk menangani argumen command line"
      ],
      "metadata": {
        "id": "8VdtgfFm0fvp"
      }
    },
    {
      "cell_type": "code",
      "source": [
        "SPL = ([[2,3,-1,5],[4,4,-3,3],[-2,3,-1,1]])\n",
        "print(\"Sistem Persamaan Linear matriks adalah \",SPL)\n",
        "\n",
        "for i in range(3):\n",
        "    SPL[1][i] = SPL[1][i] - (2*SPL[0][i])\n",
        "\n",
        "print(SPL[1][0])\n",
        "print(SPL[1][1])\n",
        "print(SPL[1][2])\n",
        "print(SPL[1][3])"
      ],
      "metadata": {
        "colab": {
          "base_uri": "https://localhost:8080/"
        },
        "id": "O0SfDC13tgZr",
        "outputId": "8c12e98a-a894-4acc-fb9b-18346ec09de4"
      },
      "execution_count": null,
      "outputs": [
        {
          "output_type": "stream",
          "name": "stdout",
          "text": [
            "Sistem Persamaan Linear matriks adalah  [[2, 3, -1, 5], [4, 4, -3, 3], [-2, 3, -1, 1]]\n",
            "0\n",
            "-2\n",
            "-1\n",
            "3\n"
          ]
        }
      ]
    },
    {
      "cell_type": "markdown",
      "source": [
        "digunakan untuk melooping sebanyak 3 kali dan SPL[1][i] = SPL[1][i] - (2*SPL[0][i]) digunakan untuk mengurangi baris kedua pada kolom, i digunakan untuk melooping kolom pada baris kedua"
      ],
      "metadata": {
        "id": "An6B1k1J15Hu"
      }
    },
    {
      "cell_type": "code",
      "source": [
        "SPL = ([[2,3,-1,5],[4,4,-3,3],[-2,3,-1,1]])\n",
        "print(\"Sistem Persamaan Linear matriks adalah \",SPL)\n",
        "\n",
        "for i in range(4):\n",
        "    SPL[1][i] = SPL[1][i] - (2*SPL[0][i])\n",
        "\n",
        "for i in range(4):\n",
        "    SPL[2][i] = SPL[2][i] - (-1*SPL[0][i])\n",
        "\n",
        "for i in range(3):\n",
        "    SPL[2][i+1] = SPL[2][i+1] - (-3*SPL[1][i+1])\n",
        "\n",
        "SPL"
      ],
      "metadata": {
        "colab": {
          "base_uri": "https://localhost:8080/"
        },
        "id": "js9lGSow2LIs",
        "outputId": "f2dd9628-3847-4c5b-b7ec-80711160a5af"
      },
      "execution_count": 16,
      "outputs": [
        {
          "output_type": "stream",
          "name": "stdout",
          "text": [
            "Sistem Persamaan Linear matriks adalah  [[2, 3, -1, 5], [4, 4, -3, 3], [-2, 3, -1, 1]]\n"
          ]
        },
        {
          "output_type": "execute_result",
          "data": {
            "text/plain": [
              "[[2, 3, -1, 5], [0, -2, -1, -7], [0, 0, -5, -15]]"
            ]
          },
          "metadata": {},
          "execution_count": 16
        }
      ]
    },
    {
      "cell_type": "markdown",
      "source": [
        "Pada For pertama digunakan untuk melooping kolom baris kedua dan dikurangi 2* baris pertama yang kolomnya dilooping\n",
        "Pada for kedua digunakan untuk meoloping baris ketiga dan baris ketiga yang dilooping akan dikurangi dengan -1*baris pertama yang kolomnya dilooping\n",
        "Pada for ketiga digunakan untuk melooping baris ketiga yang mana loopingnya i nya ditambah dengan +1 dan baris ketiga yang dilooping akan dikurangi dengan -3*baris kedua yang dilooping dengan i ditambah +1"
      ],
      "metadata": {
        "id": "AjzCmxFv3CEJ"
      }
    },
    {
      "cell_type": "code",
      "source": [
        "SPL = ([[2,3,-1,5],[4,4,-3,3],[-2,3,-1,1]])\n",
        "print(\"Sistem Persamaan Linear matriks adalah \",SPL)\n",
        "\n",
        "for i in range(4):\n",
        "    SPL[1][i] = SPL[1][i] - (2*SPL[0][i])\n",
        "\n",
        "for i in range(4):\n",
        "    SPL[2][i] = SPL[2][i] - (-1*SPL[0][i])\n",
        "\n",
        "for i in range(3):\n",
        "    SPL[2][i + 1] = SPL[2][i + 1] - (-3 * SPL[1][i + 1])\n",
        "\n",
        "\n",
        "#Subtition Back\n",
        "    x = 0\n",
        "    y = 0\n",
        "    z = 0\n",
        "\n",
        "z = SPL[2][3] / SPL[2][2]\n",
        "\n",
        "y = SPL[1][3] - SPL[1][2] *z / SPL[1][1]\n",
        "\n",
        "x = SPL[0][3] - SPL[0][1]*y - SPL[0][2]*z / SPL[0][0]\n",
        "\n",
        "print(\"Nilai X adalah \",x)\n",
        "print(\"Nilai Y adalah \",y)\n",
        "print(\"Nilai Z adalah \",z)\n",
        "\n",
        "print(\"Sistem Persamaan Linear matriks Setelah di eleminasi Gauss \",SPL)"
      ],
      "metadata": {
        "colab": {
          "base_uri": "https://localhost:8080/"
        },
        "id": "ciwrHKDW745H",
        "outputId": "fc0839f5-da42-4954-81cc-9e9ca0102758"
      },
      "execution_count": 28,
      "outputs": [
        {
          "output_type": "stream",
          "name": "stdout",
          "text": [
            "Sistem Persamaan Linear matriks adalah  [[2, 3, -1, 5], [4, 4, -3, 3], [-2, 3, -1, 1]]\n",
            "Nilai X adalah  32.0\n",
            "Nilai Y adalah  -8.5\n",
            "Nilai Z adalah  3.0\n",
            "Sistem Persamaan Linear matriks Setelah di eleminasi Gauss  [[2, 3, -1, 5], [0, -2, -1, -7], [0, 0, -5, -15]]\n"
          ]
        }
      ]
    },
    {
      "cell_type": "markdown",
      "source": [
        "Menghitung Subtition Back dengan cara pada Z kita membagi baris ketiga kolom keempat dengan baris ketiga kolom ketiga\n",
        "pada y kita mengurangi baris kedua kolom keempat dengan baris kedua kolom ketiga yang dimana baris kedua kolom ketiga dikali dengan z, setelah dikurangi kita akan membaginya dengan baris kedua kolom kedua\n",
        "pada z kita mengurangi baris pertama kolom keempat dengan baris pertama kolom kedua yang sudah dikali dengan y, setelah itu kita akan mengurangi nya lagi dengan baris pertama kolom ketiga yang sudah dikali dengan dengan Z, setelah melakukan pengurangan kita akan membaginya dengan baris pertama kolom pertama"
      ],
      "metadata": {
        "id": "3iQLzuLN6l_j"
      }
    },
    {
      "cell_type": "markdown",
      "source": [
        "pada codingan berikut kita menghitung subtition back nya dengan"
      ],
      "metadata": {
        "id": "w-HI-j0U4GEb"
      }
    }
  ]
}