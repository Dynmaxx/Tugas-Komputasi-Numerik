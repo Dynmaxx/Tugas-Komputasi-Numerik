{
  "nbformat": 4,
  "nbformat_minor": 0,
  "metadata": {
    "colab": {
      "provenance": []
    },
    "kernelspec": {
      "name": "python3",
      "display_name": "Python 3"
    },
    "language_info": {
      "name": "python"
    }
  },
  "cells": [
    {
      "cell_type": "code",
      "execution_count": 1,
      "metadata": {
        "id": "C3aJpOzwRswY"
      },
      "outputs": [],
      "source": [
        "import numpy as np\n",
        "import sys"
      ]
    },
    {
      "cell_type": "code",
      "source": [
        "SPL = ([[2,3,-1,5],[4,4,-3,3],[-2,3,-1,1]])\n",
        "print(\"Sistem Persamaan Linear matriks adalah \",SPL)\n",
        "\n",
        "for i in range(3):\n",
        "    SPL[1][i] = SPL[1][i] - (2*SPL[0][i])\n",
        "\n",
        "print(SPL[1][0])\n",
        "print(SPL[1][1])\n",
        "print(SPL[1][2])\n",
        "print(SPL[1][3])"
      ],
      "metadata": {
        "colab": {
          "base_uri": "https://localhost:8080/"
        },
        "id": "O0SfDC13tgZr",
        "outputId": "8c12e98a-a894-4acc-fb9b-18346ec09de4"
      },
      "execution_count": 4,
      "outputs": [
        {
          "output_type": "stream",
          "name": "stdout",
          "text": [
            "Sistem Persamaan Linear matriks adalah  [[2, 3, -1, 5], [4, 4, -3, 3], [-2, 3, -1, 1]]\n",
            "0\n",
            "-2\n",
            "-1\n",
            "3\n"
          ]
        }
      ]
    },
    {
      "cell_type": "code",
      "source": [
        "SPL = ([[2,3,-1,5],[4,4,-3,3],[-2,3,-1,1]])\n",
        "print(\"Sistem Persamaan Linear matriks adalah \",SPL)\n",
        "\n",
        "for i in range(4):\n",
        "    SPL[1][i] = SPL[1][i] - (2*SPL[0][i])\n",
        "\n",
        "for i in range(4):\n",
        "    SPL[2][i] = SPL[2][i] - (-1*SPL[0][i])\n",
        "\n",
        "for i in range(3):\n",
        "    SPL[2][i+1] = SPL[2][i+1] - (-3*SPL[1][i+1])\n",
        "\n",
        "SPL"
      ],
      "metadata": {
        "colab": {
          "base_uri": "https://localhost:8080/"
        },
        "id": "js9lGSow2LIs",
        "outputId": "1526e551-1c1b-4003-de37-26b2b1981de0"
      },
      "execution_count": 7,
      "outputs": [
        {
          "output_type": "stream",
          "name": "stdout",
          "text": [
            "Sistem Persamaan Linear matriks adalah  [[2, 3, -1, 5], [4, 4, -3, 3], [-2, 3, -1, 1]]\n"
          ]
        },
        {
          "output_type": "execute_result",
          "data": {
            "text/plain": [
              "[[2, 3, -1, 5], [0, -2, -1, -7], [0, 0, -5, -15]]"
            ]
          },
          "metadata": {},
          "execution_count": 7
        }
      ]
    },
    {
      "cell_type": "code",
      "source": [
        "SPL = ([[2,3,-1,5],[4,4,-3,3],[-2,3,-1,1]])\n",
        "print(\"Sistem Persamaan Linear matriks adalah \",SPL)\n",
        "\n",
        "for i in range(4):\n",
        "    SPL[1][i] = SPL[1][i] - (2*SPL[0][i])\n",
        "\n",
        "for i in range(4):\n",
        "    SPL[2][i] = SPL[2][i] - (-1*SPL[0][i])\n",
        "\n",
        "for i in range(3):\n",
        "    SPL[2][i+1] = SPL[2][i+1] - (-3*SPL[1][i+1])\n",
        "\n",
        "    print(\"Sistem Persamaan Linear matriks Setelah di eleminasi Gauss \",SPL)\n",
        "\n",
        "#Subtition Back\n",
        "    x = 0\n",
        "    y = 0\n",
        "    z = 0\n",
        "\n",
        "z = SPL [2] [3]\n",
        "\n",
        "y = SPL [1] [3] - SPL [1] [2] *z / SPL [1] [1]\n",
        "\n",
        "x = SPL [0] [3] - SPL [0] [1]*y - SPL [0] [2]*z / SPL [0] [0]\n",
        "\n",
        "print(\"Nilai X adalah \",x)\n",
        "print(\"Nilai Y adalah \",y)\n",
        "print(\"Nilai Z adalah \",z)\n",
        "\n"
      ],
      "metadata": {
        "colab": {
          "base_uri": "https://localhost:8080/"
        },
        "id": "ciwrHKDW745H",
        "outputId": "2f3ee03b-1c49-4ae2-9739-3e13b6789fc3"
      },
      "execution_count": 14,
      "outputs": [
        {
          "output_type": "stream",
          "name": "stdout",
          "text": [
            "Sistem Persamaan Linear matriks adalah  [[2, 3, -1, 5], [4, 4, -3, 3], [-2, 3, -1, 1]]\n",
            "Sistem Persamaan Linear matriks Setelah di eleminasi Gauss  [[2, 3, -1, 5], [0, -2, -1, -7], [0, 0, -2, 6]]\n",
            "Sistem Persamaan Linear matriks Setelah di eleminasi Gauss  [[2, 3, -1, 5], [0, -2, -1, -7], [0, 0, -5, 6]]\n",
            "Sistem Persamaan Linear matriks Setelah di eleminasi Gauss  [[2, 3, -1, 5], [0, -2, -1, -7], [0, 0, -5, -15]]\n",
            "Nilai X adalah  -4.0\n",
            "Nilai Y adalah  0.5\n",
            "Nilai Z adalah  -15\n"
          ]
        }
      ]
    }
  ]
}